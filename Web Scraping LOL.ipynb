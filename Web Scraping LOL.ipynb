{
 "cells": [
  {
   "cell_type": "code",
   "execution_count": 9,
   "id": "6544bf06",
   "metadata": {},
   "outputs": [],
   "source": [
    "url = \"https://lolprofile.net/es/statistics\""
   ]
  },
  {
   "cell_type": "code",
   "execution_count": 13,
   "id": "37e97b3b",
   "metadata": {},
   "outputs": [
    {
     "name": "stdout",
     "output_type": "stream",
     "text": [
      "Collecting beautifulsoup4\n",
      "  Downloading beautifulsoup4-4.10.0-py3-none-any.whl (97 kB)\n",
      "\u001b[K     |████████████████████████████████| 97 kB 943 kB/s eta 0:00:01\n",
      "\u001b[?25hCollecting soupsieve>1.2\n",
      "  Downloading soupsieve-2.3-py3-none-any.whl (37 kB)\n",
      "Installing collected packages: soupsieve, beautifulsoup4\n",
      "Successfully installed beautifulsoup4-4.10.0 soupsieve-2.3\n"
     ]
    }
   ],
   "source": [
    "!pip install beautifulsoup4\n"
   ]
  },
  {
   "cell_type": "code",
   "execution_count": 14,
   "id": "4c36637a",
   "metadata": {},
   "outputs": [],
   "source": [
    "import pandas as pd\n",
    "import requests\n",
    "import json\n",
    "import os\n",
    "from dotenv import load_dotenv\n",
    "from pandas import json_normalize\n",
    "import time\n",
    "import numpy as np\n",
    "from bs4 import BeautifulSoup"
   ]
  },
  {
   "cell_type": "code",
   "execution_count": 10,
   "id": "660b8eee",
   "metadata": {},
   "outputs": [
    {
     "data": {
      "text/plain": [
       "<Response [200]>"
      ]
     },
     "execution_count": 10,
     "metadata": {},
     "output_type": "execute_result"
    }
   ],
   "source": [
    "requests.get(url)"
   ]
  },
  {
   "cell_type": "code",
   "execution_count": 17,
   "id": "6e1a1bc1",
   "metadata": {},
   "outputs": [],
   "source": [
    "page = requests.get(url)"
   ]
  },
  {
   "cell_type": "code",
   "execution_count": 19,
   "id": "b95cda69",
   "metadata": {},
   "outputs": [],
   "source": [
    "soup = BeautifulSoup(page.content, 'html.parser')"
   ]
  },
  {
   "cell_type": "code",
   "execution_count": 35,
   "id": "f39dd906",
   "metadata": {},
   "outputs": [],
   "source": [
    "cmp = soup.find_all('a', class_='darkblue-link')"
   ]
  },
  {
   "cell_type": "code",
   "execution_count": 30,
   "id": "f7cf1557",
   "metadata": {},
   "outputs": [
    {
     "name": "stdout",
     "output_type": "stream",
     "text": [
      "[<a class=\"darkblue-link\" href=\"https://lolprofile.net/es/summoner/las/exselor\">exselor</a>, <a class=\"darkblue-link\" href=\"https://lolprofile.net/es/summoner/br/shady%20mathers\">shady mathers</a>, <a class=\"darkblue-link\" href=\"https://lolprofile.net/es/summoner/kr/%EC%AA%BC%EB%A0%99%EC%9D%B4%EB%8B%A4%EB%A7%90%EB%A1%9C%ED%95%98%EC%9E%90\">쪼렙이다말로하자</a>, <a class=\"darkblue-link\" href=\"https://lolprofile.net/es/summoner/eune/WindbreakerXD\">WindbreakerXD</a>, <a class=\"darkblue-link\" href=\"https://lolprofile.net/es/summoner/na/GeneralSn1per\">GeneralSn1per</a>, <a class=\"darkblue-link\" href=\"https://lolprofile.net/es/summoner/br/SDFHUJIOF986SDI\">SDFHUJIOF986SDI</a>, <a class=\"darkblue-link\" href=\"https://lolprofile.net/es/summoner/lan/TwitchTvZeltGG\">TwitchTvZeltGG</a>, <a class=\"darkblue-link\" href=\"https://lolprofile.net/es/summoner/kr/nodfan\">nodfan</a>, <a class=\"darkblue-link\" href=\"https://lolprofile.net/es/summoner/eune/hi%20im%20Nekro\">hi im Nekro</a>, <a class=\"darkblue-link\" href=\"https://lolprofile.net/es/summoner/eune/Razwen\">Razwen</a>, <a class=\"darkblue-link\" href=\"https://lolprofile.net/es/summoner/eune/Sub%20Zer0%20Project\">Sub Zer0 Project</a>, <a class=\"darkblue-link\" href=\"https://lolprofile.net/es/summoner/tr/FBI%20Clayer\">FBI Clayer</a>, <a class=\"darkblue-link\" href=\"https://lolprofile.net/es/summoner/euw/Bagmefmew\">Bagmefmew</a>, <a class=\"darkblue-link\" href=\"https://lolprofile.net/es/summoner/ru/Captain%20Tea%20Time\">Captain Tea Time</a>, <a class=\"darkblue-link\" href=\"https://lolprofile.net/es/summoner/eune/Blackii%201\">Blackii 1</a>, <a class=\"darkblue-link\" href=\"https://lolprofile.net/es/summoner/na/ItachiReformed\">ItachiReformed</a>, <a class=\"darkblue-link\" href=\"https://lolprofile.net/es/summoner/lan/Twitch%20Bejjaniii\">Twitch Bejjaniii</a>, <a class=\"darkblue-link\" href=\"https://lolprofile.net/es/summoner/kr/%EB%8B%A4%EC%A0%95%ED%95%98%EB%8B%A4\">다정하다</a>, <a class=\"darkblue-link\" href=\"https://lolprofile.net/es/summoner/na/WX%201649096627\">WX 1649096627</a>, <a class=\"darkblue-link\" href=\"https://lolprofile.net/es/summoner/br/BBQE\">BBQE</a>, <a class=\"darkblue-link\" href=\"https://lolprofile.net/es/champion/Heimerdinger\">\n",
      "<img alt=\"Heimerdinger\" class=\"tooltip\" height=\"32\" src=\"https://ddragon.leagueoflegends.com/cdn/11.18.1/img/champion/Heimerdinger.png\" title=\"Heimerdinger\" width=\"32\"/>\n",
      "<span style=\"margin-left:10px;\">Heimerdinger</span></a>, <a class=\"darkblue-link\" href=\"https://lolprofile.net/es/summoner/euw/GeT%20CoN%20TRollED\">GeT CoN TRollED</a>, <a class=\"darkblue-link\" href=\"https://lolprofile.net/es/champion/Ashe\">\n",
      "<img alt=\"Ashe\" class=\"tooltip\" height=\"32\" src=\"https://ddragon.leagueoflegends.com/cdn/11.18.1/img/champion/Ashe.png\" title=\"Ashe\" width=\"32\"/>\n",
      "<span style=\"margin-left:10px;\">Ashe</span></a>, <a class=\"darkblue-link\" href=\"https://lolprofile.net/es/summoner/tr/mihabe\">mihabe</a>, <a class=\"darkblue-link\" href=\"https://lolprofile.net/es/champion/Annie\">\n",
      "<img alt=\"Annie\" class=\"tooltip\" height=\"32\" src=\"https://ddragon.leagueoflegends.com/cdn/11.18.1/img/champion/Annie.png\" title=\"Annie\" width=\"32\"/>\n",
      "<span style=\"margin-left:10px;\">Annie</span></a>, <a class=\"darkblue-link\" href=\"https://lolprofile.net/es/summoner/na/Annie%20Bot\">Annie Bot</a>, <a class=\"darkblue-link\" href=\"https://lolprofile.net/es/champion/Twitch\">\n",
      "<img alt=\"Twitch\" class=\"tooltip\" data-pagespeed-lazy-src=\"https://ddragon.leagueoflegends.com/cdn/11.18.1/img/champion/Twitch.png\" height=\"32\" onerror=\"this.onerror=null;pagespeed.lazyLoadImages.loadIfVisibleAndMaybeBeacon(this);\" onload=\"pagespeed.lazyLoadImages.loadIfVisibleAndMaybeBeacon(this);\" src=\"/pagespeed_static/1.JiBnMqyl6S.gif\" title=\"Twitch\" width=\"32\"/>\n",
      "<span style=\"margin-left:10px;\">Twitch</span></a>, <a class=\"darkblue-link\" href=\"https://lolprofile.net/es/summoner/eune/XDaskalos\">XDaskalos</a>, <a class=\"darkblue-link\" href=\"https://lolprofile.net/es/champion/XinZhao\">\n",
      "<img alt=\"Xin Zhao\" class=\"tooltip\" data-pagespeed-lazy-src=\"https://ddragon.leagueoflegends.com/cdn/11.18.1/img/champion/XinZhao.png\" height=\"32\" onerror=\"this.onerror=null;pagespeed.lazyLoadImages.loadIfVisibleAndMaybeBeacon(this);\" onload=\"pagespeed.lazyLoadImages.loadIfVisibleAndMaybeBeacon(this);\" src=\"/pagespeed_static/1.JiBnMqyl6S.gif\" title=\"Xin Zhao\" width=\"32\"/>\n",
      "<span style=\"margin-left:10px;\">Xin Zhao</span></a>, <a class=\"darkblue-link\" href=\"https://lolprofile.net/es/summoner/euw/CapitanRock\">CapitanRock</a>, <a class=\"darkblue-link\" href=\"https://lolprofile.net/es/champion/Maokai\">\n",
      "<img alt=\"Maokai\" class=\"tooltip\" data-pagespeed-lazy-src=\"https://ddragon.leagueoflegends.com/cdn/11.18.1/img/champion/Maokai.png\" height=\"32\" onerror=\"this.onerror=null;pagespeed.lazyLoadImages.loadIfVisibleAndMaybeBeacon(this);\" onload=\"pagespeed.lazyLoadImages.loadIfVisibleAndMaybeBeacon(this);\" src=\"/pagespeed_static/1.JiBnMqyl6S.gif\" title=\"Maokai\" width=\"32\"/>\n",
      "<span style=\"margin-left:10px;\">Maokai</span></a>, <a class=\"darkblue-link\" href=\"https://lolprofile.net/es/summoner/na/Squiggal\">Squiggal</a>, <a class=\"darkblue-link\" href=\"https://lolprofile.net/es/champion/Ahri\">\n",
      "<img alt=\"Ahri\" class=\"tooltip\" data-pagespeed-lazy-src=\"https://ddragon.leagueoflegends.com/cdn/11.18.1/img/champion/Ahri.png\" height=\"32\" onerror=\"this.onerror=null;pagespeed.lazyLoadImages.loadIfVisibleAndMaybeBeacon(this);\" onload=\"pagespeed.lazyLoadImages.loadIfVisibleAndMaybeBeacon(this);\" src=\"/pagespeed_static/1.JiBnMqyl6S.gif\" title=\"Ahri\" width=\"32\"/>\n",
      "<span style=\"margin-left:10px;\">Ahri</span></a>, <a class=\"darkblue-link\" href=\"https://lolprofile.net/es/summoner/na/Proosia\">Proosia</a>, <a class=\"darkblue-link\" href=\"https://lolprofile.net/es/champion/Trundle\">\n",
      "<img alt=\"Trundle\" class=\"tooltip\" data-pagespeed-lazy-src=\"https://ddragon.leagueoflegends.com/cdn/11.18.1/img/champion/Trundle.png\" height=\"32\" onerror=\"this.onerror=null;pagespeed.lazyLoadImages.loadIfVisibleAndMaybeBeacon(this);\" onload=\"pagespeed.lazyLoadImages.loadIfVisibleAndMaybeBeacon(this);\" src=\"/pagespeed_static/1.JiBnMqyl6S.gif\" title=\"Trundle\" width=\"32\"/>\n",
      "<span style=\"margin-left:10px;\">Trundle</span></a>, <a class=\"darkblue-link\" href=\"https://lolprofile.net/es/summoner/eune/Loxias17\">Loxias17</a>, <a class=\"darkblue-link\" href=\"https://lolprofile.net/es/champion/Ekko\">\n",
      "<img alt=\"Ekko\" class=\"tooltip\" data-pagespeed-lazy-src=\"https://ddragon.leagueoflegends.com/cdn/11.18.1/img/champion/Ekko.png\" height=\"32\" onerror=\"this.onerror=null;pagespeed.lazyLoadImages.loadIfVisibleAndMaybeBeacon(this);\" onload=\"pagespeed.lazyLoadImages.loadIfVisibleAndMaybeBeacon(this);\" src=\"/pagespeed_static/1.JiBnMqyl6S.gif\" title=\"Ekko\" width=\"32\"/>\n",
      "<span style=\"margin-left:10px;\">Ekko</span></a>, <a class=\"darkblue-link\" href=\"https://lolprofile.net/es/summoner/br/Ekko%20de%20Zaun\">Ekko de Zaun</a>, <a class=\"darkblue-link\" href=\"https://lolprofile.net/es/champion/Nocturne\">\n",
      "<img alt=\"Nocturne\" class=\"tooltip\" data-pagespeed-lazy-src=\"https://ddragon.leagueoflegends.com/cdn/11.18.1/img/champion/Nocturne.png\" height=\"32\" onerror=\"this.onerror=null;pagespeed.lazyLoadImages.loadIfVisibleAndMaybeBeacon(this);\" onload=\"pagespeed.lazyLoadImages.loadIfVisibleAndMaybeBeacon(this);\" src=\"/pagespeed_static/1.JiBnMqyl6S.gif\" title=\"Nocturne\" width=\"32\"/>\n",
      "<span style=\"margin-left:10px;\">Nocturne</span></a>, <a class=\"darkblue-link\" href=\"https://lolprofile.net/es/summoner/euw/Sauromat\">Sauromat</a>, <a class=\"darkblue-link\" href=\"https://lolprofile.net/es/champion/Yasuo\">\n",
      "<img alt=\"Yasuo\" class=\"tooltip\" height=\"32\" src=\"https://ddragon.leagueoflegends.com/cdn/11.18.1/img/champion/Yasuo.png\" title=\"Yasuo\" width=\"32\"/>\n",
      "<span style=\"margin-left:10px;\">Yasuo</span></a>, <a class=\"darkblue-link\" href=\"https://lolprofile.net/es/champion/Lux\">\n",
      "<img alt=\"Lux\" class=\"tooltip\" height=\"32\" src=\"https://ddragon.leagueoflegends.com/cdn/11.18.1/img/champion/Lux.png\" title=\"Lux\" width=\"32\"/>\n",
      "<span style=\"margin-left:10px;\">Lux</span></a>, <a class=\"darkblue-link\" href=\"https://lolprofile.net/es/champion/MissFortune\">\n",
      "<img alt=\"Miss Fortune\" class=\"tooltip\" height=\"32\" src=\"https://ddragon.leagueoflegends.com/cdn/11.18.1/img/champion/MissFortune.png\" title=\"Miss Fortune\" width=\"32\"/>\n",
      "<span style=\"margin-left:10px;\">Miss Fortune</span></a>, <a class=\"darkblue-link\" href=\"https://lolprofile.net/es/champion/Jhin\">\n",
      "<img alt=\"Jhin\" class=\"tooltip\" data-pagespeed-lazy-src=\"https://ddragon.leagueoflegends.com/cdn/11.18.1/img/champion/Jhin.png\" height=\"32\" onerror=\"this.onerror=null;pagespeed.lazyLoadImages.loadIfVisibleAndMaybeBeacon(this);\" onload=\"pagespeed.lazyLoadImages.loadIfVisibleAndMaybeBeacon(this);\" src=\"/pagespeed_static/1.JiBnMqyl6S.gif\" title=\"Jhin\" width=\"32\"/>\n",
      "<span style=\"margin-left:10px;\">Jhin</span></a>, <a class=\"darkblue-link\" href=\"https://lolprofile.net/es/champion/Ezreal\">\n",
      "<img alt=\"Ezreal\" class=\"tooltip\" data-pagespeed-lazy-src=\"https://ddragon.leagueoflegends.com/cdn/11.18.1/img/champion/Ezreal.png\" height=\"32\" onerror=\"this.onerror=null;pagespeed.lazyLoadImages.loadIfVisibleAndMaybeBeacon(this);\" onload=\"pagespeed.lazyLoadImages.loadIfVisibleAndMaybeBeacon(this);\" src=\"/pagespeed_static/1.JiBnMqyl6S.gif\" title=\"Ezreal\" width=\"32\"/>\n",
      "<span style=\"margin-left:10px;\">Ezreal</span></a>, <a class=\"darkblue-link\" href=\"https://lolprofile.net/es/champion/Kayn\">\n",
      "<img alt=\"Kayn\" class=\"tooltip\" data-pagespeed-lazy-src=\"https://ddragon.leagueoflegends.com/cdn/11.18.1/img/champion/Kayn.png\" height=\"32\" onerror=\"this.onerror=null;pagespeed.lazyLoadImages.loadIfVisibleAndMaybeBeacon(this);\" onload=\"pagespeed.lazyLoadImages.loadIfVisibleAndMaybeBeacon(this);\" src=\"/pagespeed_static/1.JiBnMqyl6S.gif\" title=\"Kayn\" width=\"32\"/>\n",
      "<span style=\"margin-left:10px;\">Kayn</span></a>, <a class=\"darkblue-link\" href=\"https://lolprofile.net/es/champion/Yone\">\n",
      "<img alt=\"Yone\" class=\"tooltip\" data-pagespeed-lazy-src=\"https://ddragon.leagueoflegends.com/cdn/11.18.1/img/champion/Yone.png\" height=\"32\" onerror=\"this.onerror=null;pagespeed.lazyLoadImages.loadIfVisibleAndMaybeBeacon(this);\" onload=\"pagespeed.lazyLoadImages.loadIfVisibleAndMaybeBeacon(this);\" src=\"/pagespeed_static/1.JiBnMqyl6S.gif\" title=\"Yone\" width=\"32\"/>\n",
      "<span style=\"margin-left:10px;\">Yone</span></a>, <a class=\"darkblue-link\" href=\"https://lolprofile.net/es/champion/Caitlyn\">\n",
      "<img alt=\"Caitlyn\" class=\"tooltip\" data-pagespeed-lazy-src=\"https://ddragon.leagueoflegends.com/cdn/11.18.1/img/champion/Caitlyn.png\" height=\"32\" onerror=\"this.onerror=null;pagespeed.lazyLoadImages.loadIfVisibleAndMaybeBeacon(this);\" onload=\"pagespeed.lazyLoadImages.loadIfVisibleAndMaybeBeacon(this);\" src=\"/pagespeed_static/1.JiBnMqyl6S.gif\" title=\"Caitlyn\" width=\"32\"/>\n",
      "<span style=\"margin-left:10px;\">Caitlyn</span></a>, <a class=\"darkblue-link\" href=\"https://lolprofile.net/es/champion/Vayne\">\n",
      "<img alt=\"Vayne\" class=\"tooltip\" data-pagespeed-lazy-src=\"https://ddragon.leagueoflegends.com/cdn/11.18.1/img/champion/Vayne.png\" height=\"32\" onerror=\"this.onerror=null;pagespeed.lazyLoadImages.loadIfVisibleAndMaybeBeacon(this);\" onload=\"pagespeed.lazyLoadImages.loadIfVisibleAndMaybeBeacon(this);\" src=\"/pagespeed_static/1.JiBnMqyl6S.gif\" title=\"Vayne\" width=\"32\"/>\n",
      "<span style=\"margin-left:10px;\">Vayne</span></a>, <a class=\"darkblue-link\" href=\"https://lolprofile.net/es/champion/Irelia\">\n",
      "<img alt=\"Irelia\" class=\"tooltip\" data-pagespeed-lazy-src=\"https://ddragon.leagueoflegends.com/cdn/11.18.1/img/champion/Irelia.png\" height=\"32\" onerror=\"this.onerror=null;pagespeed.lazyLoadImages.loadIfVisibleAndMaybeBeacon(this);\" onload=\"pagespeed.lazyLoadImages.loadIfVisibleAndMaybeBeacon(this);\" src=\"/pagespeed_static/1.JiBnMqyl6S.gif\" title=\"Irelia\" width=\"32\"/>\n",
      "<span style=\"margin-left:10px;\">Irelia</span></a>, <a class=\"darkblue-link\" href=\"https://lolprofile.net/es/champion/Skarner\">\n",
      "<img alt=\"Skarner\" class=\"tooltip\" height=\"32\" src=\"https://ddragon.leagueoflegends.com/cdn/11.18.1/img/champion/Skarner.png\" title=\"Skarner\" width=\"32\"/>\n",
      "<span style=\"margin-left:10px;\">Skarner</span></a>, <a class=\"darkblue-link\" href=\"https://lolprofile.net/es/champion/Amumu\">\n",
      "<img alt=\"Amumu\" class=\"tooltip\" height=\"32\" src=\"https://ddragon.leagueoflegends.com/cdn/11.18.1/img/champion/Amumu.png\" title=\"Amumu\" width=\"32\"/>\n",
      "<span style=\"margin-left:10px;\">Amumu</span></a>, <a class=\"darkblue-link\" href=\"https://lolprofile.net/es/champion/Yorick\">\n",
      "<img alt=\"Yorick\" class=\"tooltip\" height=\"32\" src=\"https://ddragon.leagueoflegends.com/cdn/11.18.1/img/champion/Yorick.png\" title=\"Yorick\" width=\"32\"/>\n",
      "<span style=\"margin-left:10px;\">Yorick</span></a>, <a class=\"darkblue-link\" href=\"https://lolprofile.net/es/champion/Nocturne\">\n",
      "<img alt=\"Nocturne\" class=\"tooltip\" data-pagespeed-lazy-src=\"https://ddragon.leagueoflegends.com/cdn/11.18.1/img/champion/Nocturne.png\" height=\"32\" onerror=\"this.onerror=null;pagespeed.lazyLoadImages.loadIfVisibleAndMaybeBeacon(this);\" onload=\"pagespeed.lazyLoadImages.loadIfVisibleAndMaybeBeacon(this);\" src=\"/pagespeed_static/1.JiBnMqyl6S.gif\" title=\"Nocturne\" width=\"32\"/>\n",
      "<span style=\"margin-left:10px;\">Nocturne</span></a>, <a class=\"darkblue-link\" href=\"https://lolprofile.net/es/champion/Trundle\">\n",
      "<img alt=\"Trundle\" class=\"tooltip\" data-pagespeed-lazy-src=\"https://ddragon.leagueoflegends.com/cdn/11.18.1/img/champion/Trundle.png\" height=\"32\" onerror=\"this.onerror=null;pagespeed.lazyLoadImages.loadIfVisibleAndMaybeBeacon(this);\" onload=\"pagespeed.lazyLoadImages.loadIfVisibleAndMaybeBeacon(this);\" src=\"/pagespeed_static/1.JiBnMqyl6S.gif\" title=\"Trundle\" width=\"32\"/>\n",
      "<span style=\"margin-left:10px;\">Trundle</span></a>, <a class=\"darkblue-link\" href=\"https://lolprofile.net/es/champion/Sona\">\n",
      "<img alt=\"Sona\" class=\"tooltip\" data-pagespeed-lazy-src=\"https://ddragon.leagueoflegends.com/cdn/11.18.1/img/champion/Sona.png\" height=\"32\" onerror=\"this.onerror=null;pagespeed.lazyLoadImages.loadIfVisibleAndMaybeBeacon(this);\" onload=\"pagespeed.lazyLoadImages.loadIfVisibleAndMaybeBeacon(this);\" src=\"/pagespeed_static/1.JiBnMqyl6S.gif\" title=\"Sona\" width=\"32\"/>\n",
      "<span style=\"margin-left:10px;\">Sona</span></a>, <a class=\"darkblue-link\" href=\"https://lolprofile.net/es/champion/Soraka\">\n",
      "<img alt=\"Soraka\" class=\"tooltip\" data-pagespeed-lazy-src=\"https://ddragon.leagueoflegends.com/cdn/11.18.1/img/champion/Soraka.png\" height=\"32\" onerror=\"this.onerror=null;pagespeed.lazyLoadImages.loadIfVisibleAndMaybeBeacon(this);\" onload=\"pagespeed.lazyLoadImages.loadIfVisibleAndMaybeBeacon(this);\" src=\"/pagespeed_static/1.JiBnMqyl6S.gif\" title=\"Soraka\" width=\"32\"/>\n",
      "<span style=\"margin-left:10px;\">Soraka</span></a>, <a class=\"darkblue-link\" href=\"https://lolprofile.net/es/champion/Brand\">\n",
      "<img alt=\"Brand\" class=\"tooltip\" data-pagespeed-lazy-src=\"https://ddragon.leagueoflegends.com/cdn/11.18.1/img/champion/Brand.png\" height=\"32\" onerror=\"this.onerror=null;pagespeed.lazyLoadImages.loadIfVisibleAndMaybeBeacon(this);\" onload=\"pagespeed.lazyLoadImages.loadIfVisibleAndMaybeBeacon(this);\" src=\"/pagespeed_static/1.JiBnMqyl6S.gif\" title=\"Brand\" width=\"32\"/>\n",
      "<span style=\"margin-left:10px;\">Brand</span></a>, <a class=\"darkblue-link\" href=\"https://lolprofile.net/es/champion/Blitzcrank\">\n",
      "<img alt=\"Blitzcrank\" class=\"tooltip\" data-pagespeed-lazy-src=\"https://ddragon.leagueoflegends.com/cdn/11.18.1/img/champion/Blitzcrank.png\" height=\"32\" onerror=\"this.onerror=null;pagespeed.lazyLoadImages.loadIfVisibleAndMaybeBeacon(this);\" onload=\"pagespeed.lazyLoadImages.loadIfVisibleAndMaybeBeacon(this);\" src=\"/pagespeed_static/1.JiBnMqyl6S.gif\" title=\"Blitzcrank\" width=\"32\"/>\n",
      "<span style=\"margin-left:10px;\">Blitzcrank</span></a>, <a class=\"darkblue-link\" href=\"https://lolprofile.net/es/champion/Vi\">\n",
      "<img alt=\"Vi\" class=\"tooltip\" data-pagespeed-lazy-src=\"https://ddragon.leagueoflegends.com/cdn/11.18.1/img/champion/Vi.png\" height=\"32\" onerror=\"this.onerror=null;pagespeed.lazyLoadImages.loadIfVisibleAndMaybeBeacon(this);\" onload=\"pagespeed.lazyLoadImages.loadIfVisibleAndMaybeBeacon(this);\" src=\"/pagespeed_static/1.JiBnMqyl6S.gif\" title=\"Vi\" width=\"32\"/>\n",
      "<span style=\"margin-left:10px;\">Vi</span></a>]\n"
     ]
    }
   ],
   "source": [
    "print(cmp)"
   ]
  },
  {
   "cell_type": "code",
   "execution_count": 31,
   "id": "bb313308",
   "metadata": {},
   "outputs": [],
   "source": [
    "camp = list()"
   ]
  },
  {
   "cell_type": "code",
   "execution_count": 32,
   "id": "b830e112",
   "metadata": {},
   "outputs": [],
   "source": [
    "for i in cmp:\n",
    "    camp.append(i.text)"
   ]
  },
  {
   "cell_type": "code",
   "execution_count": 33,
   "id": "882dee38",
   "metadata": {},
   "outputs": [
    {
     "name": "stdout",
     "output_type": "stream",
     "text": [
      "['exselor', 'shady mathers', '쪼렙이다말로하자', 'WindbreakerXD', 'GeneralSn1per', 'SDFHUJIOF986SDI', 'TwitchTvZeltGG', 'nodfan', 'hi im Nekro', 'Razwen', 'Sub Zer0 Project', 'FBI Clayer', 'Bagmefmew', 'Captain Tea Time', 'Blackii 1', 'ItachiReformed', 'Twitch Bejjaniii', '다정하다', 'WX 1649096627', 'BBQE', '\\n\\nHeimerdinger', 'GeT CoN TRollED', '\\n\\nAshe', 'mihabe', '\\n\\nAnnie', 'Annie Bot', '\\n\\nTwitch', 'XDaskalos', '\\n\\nXin Zhao', 'CapitanRock', '\\n\\nMaokai', 'Squiggal', '\\n\\nAhri', 'Proosia', '\\n\\nTrundle', 'Loxias17', '\\n\\nEkko', 'Ekko de Zaun', '\\n\\nNocturne', 'Sauromat', '\\n\\nYasuo', '\\n\\nLux', '\\n\\nMiss Fortune', '\\n\\nJhin', '\\n\\nEzreal', '\\n\\nKayn', '\\n\\nYone', '\\n\\nCaitlyn', '\\n\\nVayne', '\\n\\nIrelia', '\\n\\nSkarner', '\\n\\nAmumu', '\\n\\nYorick', '\\n\\nNocturne', '\\n\\nTrundle', '\\n\\nSona', '\\n\\nSoraka', '\\n\\nBrand', '\\n\\nBlitzcrank', '\\n\\nVi']\n"
     ]
    }
   ],
   "source": [
    "print(camp)"
   ]
  },
  {
   "cell_type": "code",
   "execution_count": null,
   "id": "a24fc36b",
   "metadata": {},
   "outputs": [],
   "source": [
    "#LO DE ARRIBA ES ERRÓNEO PERO AUN ASÍ LO DEJO POR SI ACASO"
   ]
  },
  {
   "cell_type": "code",
   "execution_count": null,
   "id": "47aa8d5d",
   "metadata": {},
   "outputs": [],
   "source": [
    "#AQUI AHORA QUIERO ELEGIR LOS ELEMENTOS PERO DE LA ULTIMA TALBA SOLO"
   ]
  },
  {
   "cell_type": "code",
   "execution_count": 38,
   "id": "1b2ba76a",
   "metadata": {},
   "outputs": [],
   "source": [
    "tablas = soup.findAll(\"table\")"
   ]
  },
  {
   "cell_type": "code",
   "execution_count": 82,
   "id": "e18dcdff",
   "metadata": {},
   "outputs": [
    {
     "data": {
      "text/plain": [
       "<a class=\"darkblue-link\" href=\"https://lolprofile.net/es/champion/Trundle\">\n",
       "<img alt=\"Trundle\" class=\"tooltip\" data-pagespeed-lazy-src=\"https://ddragon.leagueoflegends.com/cdn/11.18.1/img/champion/Trundle.png\" height=\"32\" onerror=\"this.onerror=null;pagespeed.lazyLoadImages.loadIfVisibleAndMaybeBeacon(this);\" onload=\"pagespeed.lazyLoadImages.loadIfVisibleAndMaybeBeacon(this);\" src=\"/pagespeed_static/1.JiBnMqyl6S.gif\" title=\"Trundle\" width=\"32\"/>\n",
       "<span style=\"margin-left:10px;\">Trundle</span></a>"
      ]
     },
     "execution_count": 82,
     "metadata": {},
     "output_type": "execute_result"
    }
   ],
   "source": [
    "elemento = tablas[-1].find_all(\"a\")[4]\n",
    "elemento"
   ]
  },
  {
   "cell_type": "code",
   "execution_count": 83,
   "id": "c49aee85",
   "metadata": {},
   "outputs": [
    {
     "data": {
      "text/plain": [
       "'Trundle'"
      ]
     },
     "execution_count": 83,
     "metadata": {},
     "output_type": "execute_result"
    }
   ],
   "source": [
    "elemento.contents[3].text"
   ]
  },
  {
   "cell_type": "code",
   "execution_count": null,
   "id": "20bf8752",
   "metadata": {},
   "outputs": [],
   "source": []
  },
  {
   "cell_type": "code",
   "execution_count": 77,
   "id": "1e80009c",
   "metadata": {},
   "outputs": [
    {
     "data": {
      "text/plain": [
       "'Skarner'"
      ]
     },
     "execution_count": 77,
     "metadata": {},
     "output_type": "execute_result"
    }
   ],
   "source": [
    "elemento.contents[3].text"
   ]
  },
  {
   "cell_type": "code",
   "execution_count": null,
   "id": "f653a553",
   "metadata": {},
   "outputs": [],
   "source": []
  },
  {
   "cell_type": "code",
   "execution_count": 54,
   "id": "e70c413f",
   "metadata": {},
   "outputs": [
    {
     "ename": "AttributeError",
     "evalue": "ResultSet object has no attribute 'text'. You're probably treating a list of elements like a single element. Did you call find_all() when you meant to call find()?",
     "output_type": "error",
     "traceback": [
      "\u001b[0;31m---------------------------------------------------------------------------\u001b[0m",
      "\u001b[0;31mAttributeError\u001b[0m                            Traceback (most recent call last)",
      "\u001b[0;32m<ipython-input-54-d5d41d8c304a>\u001b[0m in \u001b[0;36m<module>\u001b[0;34m\u001b[0m\n\u001b[0;32m----> 1\u001b[0;31m \u001b[0mlist\u001b[0m\u001b[0;34m(\u001b[0m\u001b[0melemento\u001b[0m\u001b[0;34m.\u001b[0m\u001b[0mtext\u001b[0m\u001b[0;34m)\u001b[0m\u001b[0;34m\u001b[0m\u001b[0;34m\u001b[0m\u001b[0m\n\u001b[0m",
      "\u001b[0;32m~/anaconda3/envs/ironhack/lib/python3.8/site-packages/bs4/element.py\u001b[0m in \u001b[0;36m__getattr__\u001b[0;34m(self, key)\u001b[0m\n\u001b[1;32m   2251\u001b[0m     \u001b[0;32mdef\u001b[0m \u001b[0m__getattr__\u001b[0m\u001b[0;34m(\u001b[0m\u001b[0mself\u001b[0m\u001b[0;34m,\u001b[0m \u001b[0mkey\u001b[0m\u001b[0;34m)\u001b[0m\u001b[0;34m:\u001b[0m\u001b[0;34m\u001b[0m\u001b[0;34m\u001b[0m\u001b[0m\n\u001b[1;32m   2252\u001b[0m         \u001b[0;34m\"\"\"Raise a helpful exception to explain a common code fix.\"\"\"\u001b[0m\u001b[0;34m\u001b[0m\u001b[0;34m\u001b[0m\u001b[0m\n\u001b[0;32m-> 2253\u001b[0;31m         raise AttributeError(\n\u001b[0m\u001b[1;32m   2254\u001b[0m             \u001b[0;34m\"ResultSet object has no attribute '%s'. You're probably treating a list of elements like a single element. Did you call find_all() when you meant to call find()?\"\u001b[0m \u001b[0;34m%\u001b[0m \u001b[0mkey\u001b[0m\u001b[0;34m\u001b[0m\u001b[0;34m\u001b[0m\u001b[0m\n\u001b[1;32m   2255\u001b[0m         )\n",
      "\u001b[0;31mAttributeError\u001b[0m: ResultSet object has no attribute 'text'. You're probably treating a list of elements like a single element. Did you call find_all() when you meant to call find()?"
     ]
    }
   ],
   "source": [
    "list(elemento.text)"
   ]
  },
  {
   "cell_type": "code",
   "execution_count": 59,
   "id": "7f0610f7",
   "metadata": {},
   "outputs": [],
   "source": [
    "guardo_divs = soup.findAll(\"div\")"
   ]
  },
  {
   "cell_type": "code",
   "execution_count": 60,
   "id": "d850df15",
   "metadata": {},
   "outputs": [
    {
     "data": {
      "text/plain": [
       "{'class': ['popup'], 'id': 'login-form'}"
      ]
     },
     "execution_count": 60,
     "metadata": {},
     "output_type": "execute_result"
    }
   ],
   "source": [
    "guardo_divs[0].attrs"
   ]
  },
  {
   "cell_type": "code",
   "execution_count": 61,
   "id": "caf151a3",
   "metadata": {},
   "outputs": [
    {
     "name": "stdout",
     "output_type": "stream",
     "text": [
      "{'class': ['popup'], 'id': 'login-form'}\n"
     ]
    }
   ],
   "source": [
    "print(guardo_divs[0].attrs)"
   ]
  },
  {
   "cell_type": "code",
   "execution_count": null,
   "id": "8fc4d5a7",
   "metadata": {},
   "outputs": [],
   "source": []
  },
  {
   "cell_type": "code",
   "execution_count": null,
   "id": "4829350b",
   "metadata": {},
   "outputs": [],
   "source": []
  },
  {
   "cell_type": "code",
   "execution_count": 36,
   "id": "41dd8d99",
   "metadata": {},
   "outputs": [],
   "source": [
    "cmp2 = soup.find_all('span', style='margin-left:10px;')"
   ]
  },
  {
   "cell_type": "code",
   "execution_count": 37,
   "id": "df78c77c",
   "metadata": {},
   "outputs": [
    {
     "name": "stdout",
     "output_type": "stream",
     "text": [
      "[<span style=\"margin-left:10px;\">Heimerdinger</span>, <span style=\"margin-left:10px;\">Ashe</span>, <span style=\"margin-left:10px;\">Annie</span>, <span style=\"margin-left:10px;\">Twitch</span>, <span style=\"margin-left:10px;\">Xin Zhao</span>, <span style=\"margin-left:10px;\">Maokai</span>, <span style=\"margin-left:10px;\">Ahri</span>, <span style=\"margin-left:10px;\">Trundle</span>, <span style=\"margin-left:10px;\">Ekko</span>, <span style=\"margin-left:10px;\">Nocturne</span>, <span style=\"margin-left:10px;\">Yasuo</span>, <span style=\"margin-left:10px;\">Lux</span>, <span style=\"margin-left:10px;\">Miss Fortune</span>, <span style=\"margin-left:10px;\">Jhin</span>, <span style=\"margin-left:10px;\">Ezreal</span>, <span style=\"margin-left:10px;\">Kayn</span>, <span style=\"margin-left:10px;\">Yone</span>, <span style=\"margin-left:10px;\">Caitlyn</span>, <span style=\"margin-left:10px;\">Vayne</span>, <span style=\"margin-left:10px;\">Irelia</span>, <span style=\"margin-left:10px;\">Skarner</span>, <span style=\"margin-left:10px;\">Amumu</span>, <span style=\"margin-left:10px;\">Yorick</span>, <span style=\"margin-left:10px;\">Nocturne</span>, <span style=\"margin-left:10px;\">Trundle</span>, <span style=\"margin-left:10px;\">Sona</span>, <span style=\"margin-left:10px;\">Soraka</span>, <span style=\"margin-left:10px;\">Brand</span>, <span style=\"margin-left:10px;\">Blitzcrank</span>, <span style=\"margin-left:10px;\">Vi</span>]\n"
     ]
    }
   ],
   "source": [
    "print(cmp2)"
   ]
  },
  {
   "cell_type": "code",
   "execution_count": null,
   "id": "f6457512",
   "metadata": {},
   "outputs": [],
   "source": []
  },
  {
   "cell_type": "code",
   "execution_count": null,
   "id": "dde71c34",
   "metadata": {},
   "outputs": [],
   "source": []
  },
  {
   "cell_type": "code",
   "execution_count": null,
   "id": "01e12e3b",
   "metadata": {},
   "outputs": [],
   "source": []
  },
  {
   "cell_type": "code",
   "execution_count": null,
   "id": "565dbd0a",
   "metadata": {},
   "outputs": [],
   "source": []
  }
 ],
 "metadata": {
  "kernelspec": {
   "display_name": "ironhack",
   "language": "python",
   "name": "ironhack"
  },
  "language_info": {
   "codemirror_mode": {
    "name": "ipython",
    "version": 3
   },
   "file_extension": ".py",
   "mimetype": "text/x-python",
   "name": "python",
   "nbconvert_exporter": "python",
   "pygments_lexer": "ipython3",
   "version": "3.8.5"
  }
 },
 "nbformat": 4,
 "nbformat_minor": 5
}
